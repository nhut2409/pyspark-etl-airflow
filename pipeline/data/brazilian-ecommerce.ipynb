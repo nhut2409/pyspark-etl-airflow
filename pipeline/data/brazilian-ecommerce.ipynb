{
 "cells": [
  {
   "cell_type": "code",
   "execution_count": 5,
   "metadata": {},
   "outputs": [],
   "source": [
    "import pyspark\n",
    "from pyspark.sql import SparkSession"
   ]
  },
  {
   "cell_type": "code",
   "execution_count": 6,
   "metadata": {},
   "outputs": [
    {
     "name": "stdout",
     "output_type": "stream",
     "text": [
      "<pyspark.sql.session.SparkSession object at 0x7fa234d356c0>\n"
     ]
    },
    {
     "name": "stderr",
     "output_type": "stream",
     "text": [
      "24/02/27 14:58:13 WARN SQLConf: The SQL config 'spark.sql.execution.arrow.enabled' has been deprecated in Spark v3.0 and may be removed in the future. Use 'spark.sql.execution.arrow.pyspark.enabled' instead of it.\n"
     ]
    }
   ],
   "source": [
    "# Setting up spark\n",
    "import findspark\n",
    "findspark.init()\n",
    "from pyspark import SparkConf, SparkContext\n",
    "from pyspark.sql import SparkSession\n",
    "from pyspark.sql import *\n",
    "from pyspark.sql.functions import *\n",
    "conf = SparkConf().setMaster(\"local\").setAppName(\"Missed_Deadlines\")\n",
    "spark = SparkSession.builder.getOrCreate()\n",
    "print(spark)\n",
    "\n",
    "# Set sqlContext from the Spark context\n",
    "from pyspark.sql import SQLContext\n",
    "sqlContext = SQLContext(spark)\n",
    "\n",
    "# Edit Spark SQL context for ease of use with Pandas\n",
    "spark.conf.set(\"spark.sql.execution.arrow.enabled\", \"true\")\n",
    "\n",
    "# Build a spark session\n",
    "spark = SparkSession.builder.getOrCreate()"
   ]
  },
  {
   "cell_type": "code",
   "execution_count": 7,
   "metadata": {},
   "outputs": [],
   "source": [
    "df_customers = spark.read.csv('csv/olist_customers_dataset.csv',header=True)\n",
    "# df_geolocation = spark.read.csv('olist_geolocation_dataset.csv',header=True)\n",
    "df_order_items = spark.read.csv('csv/olist_order_items_dataset.csv',header=True)\n",
    "df_order_payments = spark.read.csv('csv/olist_order_payments_dataset.csv',header=True)\n",
    "df_order_reviews = spark.read.csv('csv/olist_order_reviews_dataset.csv',header=True)\n",
    "df_orders = spark.read.csv('csv/olist_orders_dataset.csv',header=True)\n",
    "df_products = spark.read.csv('csv/olist_products_dataset.csv',header=True)\n",
    "df_sellers = spark.read.csv('csv/olist_sellers_dataset.csv',header=True)\n",
    "df_product_translation = spark.read.csv('csv/product_category_name_translation.csv',header=True)"
   ]
  },
  {
   "cell_type": "code",
   "execution_count": 24,
   "metadata": {},
   "outputs": [
    {
     "data": {
      "text/plain": [
       "DataFrame[summary: string, customer_id: string, customer_unique_id: string, customer_zip_code_prefix: string, customer_city: string, customer_state: string]"
      ]
     },
     "execution_count": 24,
     "metadata": {},
     "output_type": "execute_result"
    }
   ],
   "source": [
    "df_customers.describe()"
   ]
  },
  {
   "cell_type": "code",
   "execution_count": 9,
   "metadata": {},
   "outputs": [
    {
     "data": {
      "text/plain": [
       "['order_id',\n",
       " 'customer_id',\n",
       " 'order_status',\n",
       " 'order_purchase_timestamp',\n",
       " 'order_approved_at',\n",
       " 'order_delivered_carrier_date',\n",
       " 'order_delivered_customer_date',\n",
       " 'order_estimated_delivery_date']"
      ]
     },
     "execution_count": 9,
     "metadata": {},
     "output_type": "execute_result"
    }
   ],
   "source": [
    "df_orders.columns"
   ]
  },
  {
   "cell_type": "code",
   "execution_count": 25,
   "metadata": {},
   "outputs": [
    {
     "data": {
      "text/plain": [
       "<bound method DataFrame.describe of DataFrame[order_id: string, order_item_id: string, product_id: string, seller_id: string, shipping_limit_date: string, price: string, freight_value: string]>"
      ]
     },
     "execution_count": 25,
     "metadata": {},
     "output_type": "execute_result"
    }
   ],
   "source": [
    "df_order_items.describe"
   ]
  },
  {
   "cell_type": "code",
   "execution_count": 11,
   "metadata": {},
   "outputs": [
    {
     "data": {
      "text/plain": [
       "['order_id',\n",
       " 'payment_sequential',\n",
       " 'payment_type',\n",
       " 'payment_installments',\n",
       " 'payment_value']"
      ]
     },
     "execution_count": 11,
     "metadata": {},
     "output_type": "execute_result"
    }
   ],
   "source": [
    "df_order_payments.columns"
   ]
  },
  {
   "cell_type": "code",
   "execution_count": 12,
   "metadata": {},
   "outputs": [
    {
     "data": {
      "text/plain": [
       "['review_id',\n",
       " 'order_id',\n",
       " 'review_score',\n",
       " 'review_comment_title',\n",
       " 'review_comment_message',\n",
       " 'review_creation_date',\n",
       " 'review_answer_timestamp']"
      ]
     },
     "execution_count": 12,
     "metadata": {},
     "output_type": "execute_result"
    }
   ],
   "source": [
    "df_order_reviews.columns"
   ]
  },
  {
   "cell_type": "code",
   "execution_count": 13,
   "metadata": {},
   "outputs": [
    {
     "data": {
      "text/plain": [
       "32951"
      ]
     },
     "execution_count": 13,
     "metadata": {},
     "output_type": "execute_result"
    }
   ],
   "source": [
    "df_products.columns\n",
    "df_products.count()"
   ]
  },
  {
   "cell_type": "code",
   "execution_count": 14,
   "metadata": {},
   "outputs": [
    {
     "data": {
      "text/plain": [
       "['seller_id', 'seller_zip_code_prefix', 'seller_city', 'seller_state']"
      ]
     },
     "execution_count": 14,
     "metadata": {},
     "output_type": "execute_result"
    }
   ],
   "source": [
    "df_sellers.columns"
   ]
  },
  {
   "cell_type": "code",
   "execution_count": 15,
   "metadata": {},
   "outputs": [],
   "source": [
    "df_product_translation.columns\n",
    "df_product_translation= df_product_translation.withColumnRenamed('product_category_name','product_name')"
   ]
  },
  {
   "cell_type": "code",
   "execution_count": 16,
   "metadata": {},
   "outputs": [],
   "source": [
    "\n",
    "from pyspark.sql.functions import col,isnan, when, count"
   ]
  },
  {
   "cell_type": "code",
   "execution_count": 17,
   "metadata": {},
   "outputs": [],
   "source": [
    "df_products =df_products.dropna()"
   ]
  },
  {
   "cell_type": "code",
   "execution_count": 18,
   "metadata": {},
   "outputs": [
    {
     "name": "stdout",
     "output_type": "stream",
     "text": [
      "+------------+-----------------------------+\n",
      "|product_name|product_category_name_english|\n",
      "+------------+-----------------------------+\n",
      "|           0|                            0|\n",
      "+------------+-----------------------------+\n",
      "\n"
     ]
    }
   ],
   "source": [
    "df_product_translation.select([count(when(isnan(c) | col(c).isNull(), c)).alias(c) for c in df_product_translation.columns]).show()"
   ]
  },
  {
   "cell_type": "code",
   "execution_count": 19,
   "metadata": {},
   "outputs": [
    {
     "name": "stdout",
     "output_type": "stream",
     "text": [
      "+--------------------+---------------------+-------------------+--------------------------+------------------+----------------+-----------------+-----------------+----------------+\n",
      "|          product_id|product_category_name|product_name_lenght|product_description_lenght|product_photos_qty|product_weight_g|product_length_cm|product_height_cm|product_width_cm|\n",
      "+--------------------+---------------------+-------------------+--------------------------+------------------+----------------+-----------------+-----------------+----------------+\n",
      "|1e9e8ef04dbcff454...|            perfumery|                 40|                       287|                 1|             225|               16|               10|              14|\n",
      "|3aa071139cb16b67c...|                  art|                 44|                       276|                 1|            1000|               30|               18|              20|\n",
      "|96bd76ec8810374ed...|       sports_leisure|                 46|                       250|                 1|             154|               18|                9|              15|\n",
      "|cef67bcfe19066a93...|                 baby|                 27|                       261|                 1|             371|               26|                4|              26|\n",
      "|9dc1a7de274444849...|           housewares|                 37|                       402|                 4|             625|               20|               17|              13|\n",
      "|41d3672d4792049fa...|  musical_instruments|                 60|                       745|                 1|             200|               38|                5|              11|\n",
      "|732bd381ad09e530f...|           cool_stuff|                 56|                      1272|                 4|           18350|               70|               24|              44|\n",
      "|2548af3e6e77a690c...|      furniture_decor|                 56|                       184|                 2|             900|               40|                8|              40|\n",
      "|37cc742be07708b53...|      home_appliances|                 57|                       163|                 1|             400|               27|               13|              17|\n",
      "|8c92109888e8cdf9d...|                 toys|                 36|                      1156|                 1|             600|               17|               10|              12|\n",
      "|14aa47b7fe5c25522...|       bed_bath_table|                 54|                       630|                 1|            1100|               16|               10|              16|\n",
      "|03b63c5fc16691530...|                 baby|                 49|                       728|                 4|            7150|               50|               19|              45|\n",
      "|cf55509ea8edaaac1...|  musical_instruments|                 43|                      1827|                 3|             250|               17|                7|              17|\n",
      "|7bb6f29c2be577161...|      furniture_decor|                 51|                      2083|                 2|             600|               68|               11|              13|\n",
      "|eb31436580a610f20...| construction_tool...|                 59|                      1602|                 4|             200|               17|                7|              17|\n",
      "|3bb7f144022e67327...|       sports_leisure|                 22|                      3021|                 1|             800|               16|                2|              11|\n",
      "|6a2fb4dd53d2cdb88...|            perfumery|                 39|                       346|                 2|             400|               27|                5|              20|\n",
      "|a1b71017a84f92fd8...| computers_accesso...|                 59|                       636|                 1|             900|               40|               15|              20|\n",
      "|a0736b92e52f6cead...|      furniture_decor|                 56|                       296|                 2|            1700|              100|                7|              15|\n",
      "|f53103a77d9cf245e...|       bed_bath_table|                 52|                       206|                 1|             500|               16|               10|              16|\n",
      "+--------------------+---------------------+-------------------+--------------------------+------------------+----------------+-----------------+-----------------+----------------+\n",
      "only showing top 20 rows\n",
      "\n"
     ]
    }
   ],
   "source": [
    "# Translate name of product on df_products\n",
    "df_products_translated = df_products.join(df_product_translation, df_products.product_category_name == df_product_translation.product_name).drop('product_category_name','product_name')\n",
    "df_products_translated = df_products_translated.withColumnRenamed('product_category_name_english','product_category_name').select(df_products.columns)\n",
    "df_products_translated.show()"
   ]
  },
  {
   "cell_type": "code",
   "execution_count": 20,
   "metadata": {},
   "outputs": [],
   "source": [
    "# Create SQL Table Views from dfs for SQL querying\n",
    "df_order_items.createOrReplaceTempView('items')\n",
    "df_orders.createOrReplaceTempView('orders')\n",
    "df_products.createOrReplaceTempView('products')\n",
    "df_product_translation.createOrReplaceTempView('products_trans')\n",
    "df_products_translated.createOrReplaceTempView('products_translated')"
   ]
  },
  {
   "cell_type": "code",
   "execution_count": 29,
   "metadata": {},
   "outputs": [],
   "source": [
    "late_carrier_deliveries = spark.sql(\"\"\"\n",
    "SELECT i.order_id, i.seller_id, DATE(i.shipping_limit_date), FLOAT(i.price), FLOAT(i.freight_value),\n",
    "       p.product_id, p.product_category_name,\n",
    "       o.customer_id, o.order_status, DATE(o.order_purchase_timestamp), DATE(o.order_delivered_carrier_date),\n",
    "       DATE(o.order_delivered_customer_date), DATE(o.order_estimated_delivery_date)\n",
    "FROM items AS i\n",
    "JOIN orders AS o\n",
    "ON i.order_id = o.order_id\n",
    "JOIN products_translated AS p\n",
    "ON i.product_id = p.product_id\n",
    "WHERE i.shipping_limit_date < o.order_delivered_carrier_date\n",
    "\"\"\")"
   ]
  },
  {
   "cell_type": "code",
   "execution_count": 30,
   "metadata": {},
   "outputs": [
    {
     "name": "stdout",
     "output_type": "stream",
     "text": [
      "root\n",
      " |-- order_id: string (nullable = true)\n",
      " |-- seller_id: string (nullable = true)\n",
      " |-- shipping_limit_date: date (nullable = true)\n",
      " |-- price: float (nullable = true)\n",
      " |-- freight_value: float (nullable = true)\n",
      " |-- product_id: string (nullable = true)\n",
      " |-- product_category_name: string (nullable = true)\n",
      " |-- customer_id: string (nullable = true)\n",
      " |-- order_status: string (nullable = true)\n",
      " |-- order_purchase_timestamp: date (nullable = true)\n",
      " |-- order_delivered_carrier_date: date (nullable = true)\n",
      " |-- order_delivered_customer_date: date (nullable = true)\n",
      " |-- order_estimated_delivery_date: date (nullable = true)\n",
      "\n"
     ]
    }
   ],
   "source": [
    "late_carrier_deliveries.printSchema()"
   ]
  },
  {
   "cell_type": "code",
   "execution_count": 26,
   "metadata": {},
   "outputs": [
    {
     "name": "stderr",
     "output_type": "stream",
     "text": [
      "                                                                                \r"
     ]
    },
    {
     "name": "stdout",
     "output_type": "stream",
     "text": [
      "+--------------------+--------------------+-------------------+------+-------------+--------------------+---------------------+--------------------+------------+------------------------+----------------------------+-----------------------------+-----------------------------+\n",
      "|            order_id|           seller_id|shipping_limit_date| price|freight_value|          product_id|product_category_name|         customer_id|order_status|order_purchase_timestamp|order_delivered_carrier_date|order_delivered_customer_date|order_estimated_delivery_date|\n",
      "+--------------------+--------------------+-------------------+------+-------------+--------------------+---------------------+--------------------+------------+------------------------+----------------------------+-----------------------------+-----------------------------+\n",
      "|00018f77f2f0320c5...|dd7ddc04e1b6c2c61...|2017-05-03 11:05:13|239.90|        19.93|e5f2d52b802189ee6...|             pet_shop|f6dd3ec061db4e398...|   delivered|     2017-04-26 10:53:06|         2017-05-04 14:35:00|          2017-05-12 16:04:24|          2017-05-15 00:00:00|\n",
      "|0094bd07f49fed902...|5670f4db5b62c43d5...|2018-05-09 04:12:53| 11.53|         7.39|d64e758afad411049...|            perfumery|de0c1a4d8c367c58d...|   delivered|     2018-05-01 02:04:16|         2018-05-10 19:19:00|          2018-05-16 21:12:15|          2018-05-14 00:00:00|\n",
      "|00995d799817ecc3b...|620c87c171fb2a6dd...|2018-08-01 11:45:13| 49.90|        12.92|f3b8bfa5b86249e75...|        health_beauty|266636baec3cfa8d8...|   delivered|     2018-07-26 11:25:18|         2018-08-01 14:05:00|          2018-08-02 18:56:52|          2018-08-08 00:00:00|\n",
      "|00ab210695a17fe10...|4c2b230173bb36f9b...|2018-06-18 06:30:53| 39.00|         7.53|c6336fa91fbd87c35...|       sports_leisure|c87e0e6aa4b3321ad...|   delivered|     2018-06-12 06:19:27|         2018-06-18 11:01:00|          2018-06-19 22:12:23|          2018-06-26 00:00:00|\n",
      "|00d03eb3425f41a59...|70a12e78e608ac311...|2017-02-22 16:46:42| 69.00|        21.17|c35498fbb4358837a...|            telephony|457e255722e958032...|   delivered|     2017-02-17 17:46:42|         2017-02-24 14:16:35|          2017-04-09 00:23:16|          2017-03-29 00:00:00|\n",
      "|00e7ee1b050b84995...|7c67e1448b00f6e96...|2017-05-22 15:22:12|124.99|        21.88|a9516a079e37a9c9c...|     office_furniture|06b8999e2fba1a1fb...|   delivered|     2017-05-16 15:05:35|         2017-05-23 10:47:57|          2017-05-25 10:35:35|          2017-06-05 00:00:00|\n",
      "|00ea690fe8c5eba02...|1025f0e2d44d7041d...|2017-12-01 20:13:19| 32.99|        16.11|9ecadb84c81da840d...|      furniture_decor|9d7381a45eebf403b...|   delivered|     2017-11-25 01:49:52|         2017-12-09 00:13:02|          2017-12-18 15:33:12|          2017-12-26 00:00:00|\n",
      "|010fadb12341d8253...|daeb5653dd96c1b11...|2018-02-15 17:35:37| 39.90|        14.10|8d7ab3701456fdbfe...|  luggage_accessories|135bbed7ce3264789...|   delivered|     2018-02-09 17:28:05|         2018-02-21 21:13:10|          2018-03-05 23:49:02|          2018-03-06 00:00:00|\n",
      "|01a921eb5bf5df0c2...|1025f0e2d44d7041d...|2017-12-01 21:13:35| 69.99|         9.36|c7fd13b5e515bffda...|      furniture_decor|e91aaba52c45b2044...|   delivered|     2017-11-26 20:51:06|         2017-12-01 23:41:52|          2017-12-11 18:13:19|          2017-12-12 00:00:00|\n",
      "|01a921eb5bf5df0c2...|1025f0e2d44d7041d...|2017-12-01 21:13:35| 69.99|         9.36|c7fd13b5e515bffda...|      furniture_decor|e91aaba52c45b2044...|   delivered|     2017-11-26 20:51:06|         2017-12-01 23:41:52|          2017-12-11 18:13:19|          2017-12-12 00:00:00|\n",
      "|01ba82170ebb683c7...|7c67e1448b00f6e96...|2018-02-20 15:11:35|192.97|        33.59|d6fe3b4ddecd4a839...|     office_furniture|ca8e595c4c2e4a55f...|   delivered|     2018-02-06 15:08:30|         2018-02-22 16:26:55|          2018-02-23 19:58:35|          2018-03-13 00:00:00|\n",
      "|01ba82170ebb683c7...|7c67e1448b00f6e96...|2018-02-20 15:11:35|192.97|        33.59|d6fe3b4ddecd4a839...|     office_furniture|ca8e595c4c2e4a55f...|   delivered|     2018-02-06 15:08:30|         2018-02-22 16:26:55|          2018-02-23 19:58:35|          2018-03-13 00:00:00|\n",
      "|01ba82170ebb683c7...|7c67e1448b00f6e96...|2018-02-20 15:11:35|192.97|        33.59|d6fe3b4ddecd4a839...|     office_furniture|ca8e595c4c2e4a55f...|   delivered|     2018-02-06 15:08:30|         2018-02-22 16:26:55|          2018-02-23 19:58:35|          2018-03-13 00:00:00|\n",
      "|01e7138289b75d962...|128639473a139ac0f...|2018-02-07 20:14:01| 19.90|        12.48|5d66715cc928aadd0...|          electronics|f396261ffae591f99...|   delivered|     2018-02-01 19:59:02|         2018-02-07 21:21:45|          2018-02-20 18:03:47|          2018-02-23 00:00:00|\n",
      "|01e7138289b75d962...|128639473a139ac0f...|2018-02-07 20:14:01| 19.90|        12.48|5d66715cc928aadd0...|          electronics|f396261ffae591f99...|   delivered|     2018-02-01 19:59:02|         2018-02-07 21:21:45|          2018-02-20 18:03:47|          2018-02-23 00:00:00|\n",
      "|01eb154e5aa06eaf5...|855668e0971d4dfd7...|2018-04-05 11:55:35| 55.00|         8.64|30a47cc354b960707...|                 baby|6e3d5df3e5aed86d9...|   delivered|     2018-03-22 11:42:20|         2018-04-05 14:42:45|          2018-04-09 13:08:38|          2018-04-12 00:00:00|\n",
      "|02a54d22a5cd81b89...|f84fa566034f5e8e8...|2018-03-26 14:31:50| 47.65|         7.39|437c05a395e9e47f9...|        health_beauty|b17fac8443f1de9cc...|   delivered|     2018-03-20 14:19:47|         2018-03-27 04:28:43|          2018-03-27 21:59:00|          2018-04-02 00:00:00|\n",
      "|02d3eba685e8150e0...|4830e40640734fc1c...|2018-06-06 14:11:48| 31.00|         7.39|879f3fcede3745f74...|           stationery|0ec44d686aef3c798...|   delivered|     2018-05-29 13:55:57|         2018-06-06 14:57:00|          2018-06-07 17:35:58|          2018-06-21 00:00:00|\n",
      "|0312ecf90786def87...|25e6ffe976bd75618...|2017-05-16 22:10:10| 35.00|         7.78|f908d3bf313a1308b...|                 toys|45cce495588388d07...|   delivered|     2017-05-10 22:02:40|         2017-05-17 10:06:53|          2017-05-18 17:09:46|          2017-05-18 00:00:00|\n",
      "|0382be412d28f04f9...|2eb70248d66e0e3ef...|2018-04-24 13:52:04| 79.90|        18.44|a0b940038a7c1b3af...|            telephony|fc04cbc6a598681d0...|   delivered|     2018-04-17 17:32:13|         2018-05-09 08:01:00|          2018-05-18 17:03:43|          2018-05-14 00:00:00|\n",
      "+--------------------+--------------------+-------------------+------+-------------+--------------------+---------------------+--------------------+------------+------------------------+----------------------------+-----------------------------+-----------------------------+\n",
      "only showing top 20 rows\n",
      "\n"
     ]
    }
   ],
   "source": [
    "late_carrier_deliveries.show()"
   ]
  },
  {
   "cell_type": "code",
   "execution_count": 23,
   "metadata": {},
   "outputs": [
    {
     "name": "stderr",
     "output_type": "stream",
     "text": [
      "                                                                                \r"
     ]
    },
    {
     "data": {
      "text/plain": [
       "10203"
      ]
     },
     "execution_count": 23,
     "metadata": {},
     "output_type": "execute_result"
    }
   ],
   "source": [
    "late_carrier_deliveries.count()"
   ]
  },
  {
   "cell_type": "code",
   "execution_count": null,
   "metadata": {},
   "outputs": [],
   "source": []
  }
 ],
 "metadata": {
  "kernelspec": {
   "display_name": ".env",
   "language": "python",
   "name": "python3"
  },
  "language_info": {
   "codemirror_mode": {
    "name": "ipython",
    "version": 3
   },
   "file_extension": ".py",
   "mimetype": "text/x-python",
   "name": "python",
   "nbconvert_exporter": "python",
   "pygments_lexer": "ipython3",
   "version": "3.10.12"
  }
 },
 "nbformat": 4,
 "nbformat_minor": 2
}
